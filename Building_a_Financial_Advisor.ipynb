{
 "cells": [
  {
   "cell_type": "markdown",
   "metadata": {
    "colab_type": "text",
    "id": "view-in-github"
   },
   "source": [
    "<a href=\"https://colab.research.google.com/github/satishsurath/OpenAIfinancialAdvisorEmbeddings/blob/main/Building_a_Financial_Advisor.ipynb\" target=\"_parent\"><img src=\"https://colab.research.google.com/assets/colab-badge.svg\" alt=\"Open In Colab\"/></a>"
   ]
  },
  {
   "cell_type": "code",
   "execution_count": 4,
   "metadata": {
    "colab": {
     "base_uri": "https://localhost:8080/"
    },
    "id": "kDeL2euWOe5d",
    "outputId": "1d52ef12-dc0c-4d28-e399-273cc4c26b0e"
   },
   "outputs": [
    {
     "name": "stdout",
     "output_type": "stream",
     "text": [
      "Graphics/Displays:\n",
      "\n",
      "    Apple M2 Max:\n",
      "\n",
      "      Chipset Model: Apple M2 Max\n",
      "      Type: GPU\n",
      "      Bus: Built-In\n",
      "      Total Number of Cores: 30\n",
      "      Vendor: Apple (0x106b)\n",
      "      Metal Support: Metal 3\n",
      "      Displays:\n",
      "        Color LCD:\n",
      "          Display Type: Built-in Liquid Retina XDR Display\n",
      "          Resolution: 3024 x 1964 Retina\n",
      "          Main Display: Yes\n",
      "          Mirror: Off\n",
      "          Online: Yes\n",
      "          Automatically Adjust Brightness: No\n",
      "          Connection Type: Internal\n",
      "\n",
      "\n"
     ]
    }
   ],
   "source": [
    "#gpu_info = !nvidia-smi\n",
    "#gpu_info = '\\n'.join(gpu_info)\n",
    "#if gpu_info.find('failed') >= 0:\n",
    "#  print('Not connected to a GPU')\n",
    "#else:\n",
    "#  print(gpu_info)\n",
    "\n",
    "import subprocess\n",
    "\n",
    "try:\n",
    "    gpu_info = subprocess.check_output(['system_profiler', 'SPDisplaysDataType']).decode('utf-8')\n",
    "except subprocess.CalledProcessError as e:\n",
    "    gpu_info = str(e.output)\n",
    "\n",
    "if 'GPU' not in gpu_info and 'Graphics' not in gpu_info:\n",
    "    print('No GPU information available')\n",
    "else:\n",
    "    print(gpu_info)"
   ]
  },
  {
   "cell_type": "code",
   "execution_count": 5,
   "metadata": {
    "colab": {
     "base_uri": "https://localhost:8080/"
    },
    "id": "0E3S7-YKRFW5",
    "outputId": "335190ce-60ab-4231-aa7f-12d51399abb3"
   },
   "outputs": [],
   "source": [
    "!pip install openai pytube -q\n",
    "!pip install git+https://github.com/openai/whisper.git -q"
   ]
  },
  {
   "cell_type": "code",
   "execution_count": 34,
   "metadata": {
    "colab": {
     "base_uri": "https://localhost:8080/"
    },
    "id": "qJYJw0_8LAWQ",
    "outputId": "842c2a99-0589-406a-a9d7-cf696b096932"
   },
   "outputs": [],
   "source": [
    "import openai\n",
    "import whisper\n",
    "import pandas as pd\n",
    "import re\n",
    "#from pytube import YouTube\n",
    "from youtube_transcript_api import YouTubeTranscriptApi\n",
    "from getpass import getpass\n",
    "\n",
    "COMPLETIONS_MODEL = \"text-davinci-003\"\n",
    "EMBEDDINGS_MODEL = \"text-embedding-ada-002\""
   ]
  },
  {
   "cell_type": "code",
   "execution_count": 35,
   "metadata": {},
   "outputs": [
    {
     "name": "stdin",
     "output_type": "stream",
     "text": [
      "Enter your OpenAI API Key ········\n"
     ]
    }
   ],
   "source": [
    "openai.api_key = getpass(\"Enter your OpenAI API Key\")"
   ]
  },
  {
   "cell_type": "markdown",
   "metadata": {},
   "source": [
    "Adding some more Terminal Code to get this running:"
   ]
  },
  {
   "cell_type": "code",
   "execution_count": 36,
   "metadata": {
    "colab": {
     "base_uri": "https://localhost:8080/"
    },
    "id": "g1ekG-w3iFL9",
    "outputId": "57e75a21-95d3-4d0f-ff2c-5c754a2a0f2f"
   },
   "outputs": [],
   "source": [
    "model = whisper.load_model('base')"
   ]
  },
  {
   "cell_type": "code",
   "execution_count": 37,
   "metadata": {
    "id": "vW_9XaMJiIDa"
   },
   "outputs": [],
   "source": [
    "youtube_video_url = \"https://www.youtube.com/watch?v=XZg_iuGN3AA\""
   ]
  },
  {
   "cell_type": "code",
   "execution_count": 38,
   "metadata": {},
   "outputs": [
    {
     "name": "stdout",
     "output_type": "stream",
     "text": [
      "XZg_iuGN3AA\n"
     ]
    }
   ],
   "source": [
    "\n",
    "# extract video id from youtube url\n",
    "def extract_video_id(url):\n",
    "    pattern = r'(?:https?:\\/\\/)?(?:www\\.)?(?:youtube\\.com\\/watch\\?v=|youtu\\.be\\/)([\\w-]{11})'\n",
    "    match = re.match(pattern, url)\n",
    "    if match:\n",
    "        return match.group(1)\n",
    "    return None\n",
    "\n",
    "video_id = extract_video_id(youtube_video_url)\n",
    "print(video_id)"
   ]
  },
  {
   "cell_type": "code",
   "execution_count": 39,
   "metadata": {
    "colab": {
     "base_uri": "https://localhost:8080/"
    },
    "id": "PhYEC28tjWfH",
    "outputId": "13fc89c2-70aa-4f6c-e801-7f8ba67d85f4"
   },
   "outputs": [
    {
     "name": "stdout",
     "output_type": "stream",
     "text": [
      "hey everyone Peter Zion here coming to you from Colorado where spring has sprung and the frogs are chirping which means of course later today we're supposed to get a foot of snow anyway uh I thought it would be worth me commenting on the recent intelligence leaks by Airmen uh to Shara let's deal with the contents of what was leaked and then we can talk about Espionage and leaks in general so most of the documents that were leaked relate to the war in Ukraine in some way and involve internal U.S assessments of how the war is going and how the ukrainians are doing and they're broadly less than fully complementary uh basic indication from the leak is that the ukrainians have been suffering higher casualties than are reported uh and more importantly that the confidence in the numbers provided by the ukrainians is very low so the US really doesn't have a good view in addition there's concern that by engaging in a static defense in places like bakluth the ukrainians are losing their combat Firepower which is going to make it more difficult for them to launch for future offensives uh there's nothing about either of those assessments that is particularly controversial but before you say that everything is now out there in the public domain is true keep in mind that it has been the Russians now that have publicized this stuff far and wide and they have undoubtedly changed a lot of the details in order to make their propaganda machine a little bit stronger than it otherwise would be be but three things that come from this first of all uh to Shara the guy who did the league the US Airman uh all from all appearances was not recruited by the Russians uh and that's something that's kind of had me curious for a while now uh not sent Edward Snowden in 2013 have we had any of our leakers have a very firm and obvious Russian connection now Snowden apologists of course are going to reject that out of hand but you know screw them uh the Russians used to maintain the world's best human intelligence arm and in the last decade either they've gotten so good that no one has detected them functionally working really anywhere or that capacity is languished along with everything else that we've seen in the Russian State Services of late whether it's the military or the Cyber capabilities or anything else that's probably really good news second um to share himself and why people do things like this it's really an issue of foreign recruitment even if they're not a foreigner involved people are often motivated by the same factors with the big three being ego ideology and sex and in the case of to share it looks like it was probably a combination of all three uh he was on a gamer's Forum he had these documents or he had access to these documents he brought them home he photocopied them he took PDF photos of him and then he published them on the gamers uh platform Discord uh like the whiny he is in the case of a couple of previous big leaks I'm thinking here of Chelsea Manning and Edward Snowden uh ideology was certainly part of it for Manning in terms of Edward Snowden uh clearly was paid by the Russians clearly fled to Russia clearly married a trophy bride as soon as he got there so you know I'm sure it's for love but let's be a little bit more honest here uh and then ideology of course intertwines with Snowden as well um I think the criticism here if there is one is we've now had three leaks of significance in the last 13 years that get into files that are top secret and above and if you look at the three specific cases of Snowden Manning and Tashara they all have something in common they probably should have never had access to these documents in the first place uh Snowden was a part-time contractor and yes he was definitely a spy and yes he definitely hacked into the system but somebody at his level should have never been near a terminal would have given him access in the first place Manning who was a private at the time and definitely should have not had access to the high-end stuff and to share I was a 21 year old Airman now I am not the sort of person he's going to go in and pick apart an American security policy when it comes to information but there is a pattern here and probably something that should be addressed in the not too distant future but the biggest bit of encouragement I had is how fast to share was caught I mean it really only took a few days for the FBI to find him at the same time a bunch of independent journalists found him and then publicized his information so at least on time on target we are getting better from the law enforcement side of this but maybe we should work a little bit more on information security on the Personnel side okay I think that's it for me take care\n"
     ]
    }
   ],
   "source": [
    "transcript_list = YouTubeTranscriptApi.get_transcript(video_id)\n",
    "transcript_text = ' '.join([item['text'] for item in transcript_list])\n",
    "print(transcript_text)"
   ]
  },
  {
   "cell_type": "markdown",
   "metadata": {
    "id": "CX5S2DhVsCHl"
   },
   "source": []
  },
  {
   "cell_type": "code",
   "execution_count": null,
   "metadata": {
    "colab": {
     "base_uri": "https://localhost:8080/"
    },
    "id": "HIIFa0rBX89F",
    "outputId": "45b14a73-af94-4913-c9b1-d186cbcdc32a"
   },
   "outputs": [
    {
     "name": "stdout",
     "output_type": "stream",
     "text": [
      "skipping row 0 because there is no previous row\n"
     ]
    }
   ],
   "source": [
    "import csv\n",
    "\n",
    "# create a new pandas dataframe\n",
    "df = pd.DataFrame(columns=['episode', 'url', 'start_timestamp', 'start', 'end', 'question', 'context'])\n",
    "\n",
    "# index to keep track of current row\n",
    "i = 0\n",
    "\n",
    "with open('financial_advisor.csv') as csv_file:\n",
    "    reader = csv.reader(csv_file)\n",
    "\n",
    "    # skip the header row in the csv file\n",
    "    next(reader)\n",
    "    \n",
    "    for row in reader:\n",
    "        # assign each column in the row to a variable and split questions on carriage return\n",
    "        episode, url, questions = row\n",
    "        question_list = questions.split(\"\\n\")\n",
    "\n",
    "        # for each question in the list, extract the timestamp and convert it to seconds for youtube\n",
    "        for question in question_list:\n",
    "          pieces = question.split('-')\n",
    "          timestamp = pieces[0]\n",
    "          minutes, seconds = timestamp.split(':')\n",
    "          seconds = int(seconds) + (int(minutes.lstrip()) * 60)\n",
    "\n",
    "          # add a new row to the dataframe\n",
    "          df.loc[i] = [episode, url, timestamp, seconds, seconds, \" \".join(pieces[1:]), \"\"]\n",
    "          \n",
    "          try:\n",
    "            df.loc[i-1]['end'] = df.loc[i]['start']\n",
    "          except:\n",
    "            print(f\"skipping row {i} because there is no previous row\")\n",
    "\n",
    "          i+=1\n",
    "\n",
    "          df['end'][df['end'] < df['start']] = 0\n",
    "          df['end'][df['start'] == df['end']] = 0\n",
    "\n",
    "df.to_csv(\"questions.csv\")\n"
   ]
  },
  {
   "cell_type": "code",
   "execution_count": 40,
   "metadata": {
    "colab": {
     "base_uri": "https://localhost:8080/",
     "height": 424
    },
    "id": "nv402py8bL_e",
    "outputId": "c143fb54-2aca-4cbd-d8ac-ca1bd0efde7c"
   },
   "outputs": [
    {
     "data": {
      "text/html": [
       "<div>\n",
       "<style scoped>\n",
       "    .dataframe tbody tr th:only-of-type {\n",
       "        vertical-align: middle;\n",
       "    }\n",
       "\n",
       "    .dataframe tbody tr th {\n",
       "        vertical-align: top;\n",
       "    }\n",
       "\n",
       "    .dataframe thead th {\n",
       "        text-align: right;\n",
       "    }\n",
       "</style>\n",
       "<table border=\"1\" class=\"dataframe\">\n",
       "  <thead>\n",
       "    <tr style=\"text-align: right;\">\n",
       "      <th></th>\n",
       "      <th>Unnamed: 0</th>\n",
       "      <th>episode</th>\n",
       "      <th>url</th>\n",
       "      <th>start_timestamp</th>\n",
       "      <th>start</th>\n",
       "      <th>end</th>\n",
       "      <th>question</th>\n",
       "      <th>context</th>\n",
       "    </tr>\n",
       "  </thead>\n",
       "  <tbody>\n",
       "    <tr>\n",
       "      <th>0</th>\n",
       "      <td>0</td>\n",
       "      <td>Episode 1</td>\n",
       "      <td>https://www.youtube.com/watch?v=0z49u_b6PmE</td>\n",
       "      <td>3:07</td>\n",
       "      <td>187</td>\n",
       "      <td>415</td>\n",
       "      <td>What's the best way to reallocate a portfolio ...</td>\n",
       "      <td>NaN</td>\n",
       "    </tr>\n",
       "    <tr>\n",
       "      <th>1</th>\n",
       "      <td>1</td>\n",
       "      <td>Episode 1</td>\n",
       "      <td>https://www.youtube.com/watch?v=0z49u_b6PmE</td>\n",
       "      <td>6:55</td>\n",
       "      <td>415</td>\n",
       "      <td>669</td>\n",
       "      <td>What do I do once I cross the Roth IRA income ...</td>\n",
       "      <td>NaN</td>\n",
       "    </tr>\n",
       "    <tr>\n",
       "      <th>2</th>\n",
       "      <td>2</td>\n",
       "      <td>Episode 1</td>\n",
       "      <td>https://www.youtube.com/watch?v=0z49u_b6PmE</td>\n",
       "      <td>11:09</td>\n",
       "      <td>669</td>\n",
       "      <td>0</td>\n",
       "      <td>Once I have maxed out my retiremenet accounts...</td>\n",
       "      <td>NaN</td>\n",
       "    </tr>\n",
       "    <tr>\n",
       "      <th>3</th>\n",
       "      <td>3</td>\n",
       "      <td>Episode 2</td>\n",
       "      <td>https://www.youtube.com/watch?v=IDGnZ2AErBg</td>\n",
       "      <td>1:04</td>\n",
       "      <td>64</td>\n",
       "      <td>366</td>\n",
       "      <td>Saving vs. Investing</td>\n",
       "      <td>NaN</td>\n",
       "    </tr>\n",
       "    <tr>\n",
       "      <th>4</th>\n",
       "      <td>4</td>\n",
       "      <td>Episode 2</td>\n",
       "      <td>https://www.youtube.com/watch?v=IDGnZ2AErBg</td>\n",
       "      <td>6:06</td>\n",
       "      <td>366</td>\n",
       "      <td>566</td>\n",
       "      <td>If Baby Boomers are shifting from net investo...</td>\n",
       "      <td>NaN</td>\n",
       "    </tr>\n",
       "    <tr>\n",
       "      <th>...</th>\n",
       "      <td>...</td>\n",
       "      <td>...</td>\n",
       "      <td>...</td>\n",
       "      <td>...</td>\n",
       "      <td>...</td>\n",
       "      <td>...</td>\n",
       "      <td>...</td>\n",
       "      <td>...</td>\n",
       "    </tr>\n",
       "    <tr>\n",
       "      <th>293</th>\n",
       "      <td>293</td>\n",
       "      <td>Episode 61</td>\n",
       "      <td>https://www.youtube.com/watch?v=dYQAYc26bm0</td>\n",
       "      <td>2:56</td>\n",
       "      <td>176</td>\n",
       "      <td>443</td>\n",
       "      <td>Adding bonds to a 100% stock portfolio</td>\n",
       "      <td>NaN</td>\n",
       "    </tr>\n",
       "    <tr>\n",
       "      <th>294</th>\n",
       "      <td>294</td>\n",
       "      <td>Episode 61</td>\n",
       "      <td>https://www.youtube.com/watch?v=dYQAYc26bm0</td>\n",
       "      <td>7:23</td>\n",
       "      <td>443</td>\n",
       "      <td>670</td>\n",
       "      <td>Is having a pension and annuity a substitute f...</td>\n",
       "      <td>NaN</td>\n",
       "    </tr>\n",
       "    <tr>\n",
       "      <th>295</th>\n",
       "      <td>295</td>\n",
       "      <td>Episode 61</td>\n",
       "      <td>https://www.youtube.com/watch?v=dYQAYc26bm0</td>\n",
       "      <td>11:10</td>\n",
       "      <td>670</td>\n",
       "      <td>1103</td>\n",
       "      <td>Can the stock market grow forever?</td>\n",
       "      <td>NaN</td>\n",
       "    </tr>\n",
       "    <tr>\n",
       "      <th>296</th>\n",
       "      <td>296</td>\n",
       "      <td>Episode 61</td>\n",
       "      <td>https://www.youtube.com/watch?v=dYQAYc26bm0</td>\n",
       "      <td>18:23</td>\n",
       "      <td>1103</td>\n",
       "      <td>1698</td>\n",
       "      <td>Whole life insurance.</td>\n",
       "      <td>NaN</td>\n",
       "    </tr>\n",
       "    <tr>\n",
       "      <th>297</th>\n",
       "      <td>297</td>\n",
       "      <td>Episode 61</td>\n",
       "      <td>https://www.youtube.com/watch?v=dYQAYc26bm0</td>\n",
       "      <td>28:18:00</td>\n",
       "      <td>1698</td>\n",
       "      <td>0</td>\n",
       "      <td>Saving for kids.</td>\n",
       "      <td>NaN</td>\n",
       "    </tr>\n",
       "  </tbody>\n",
       "</table>\n",
       "<p>298 rows × 8 columns</p>\n",
       "</div>"
      ],
      "text/plain": [
       "     Unnamed: 0     episode                                          url  \\\n",
       "0             0   Episode 1  https://www.youtube.com/watch?v=0z49u_b6PmE   \n",
       "1             1   Episode 1  https://www.youtube.com/watch?v=0z49u_b6PmE   \n",
       "2             2   Episode 1  https://www.youtube.com/watch?v=0z49u_b6PmE   \n",
       "3             3   Episode 2  https://www.youtube.com/watch?v=IDGnZ2AErBg   \n",
       "4             4   Episode 2  https://www.youtube.com/watch?v=IDGnZ2AErBg   \n",
       "..          ...         ...                                          ...   \n",
       "293         293  Episode 61  https://www.youtube.com/watch?v=dYQAYc26bm0   \n",
       "294         294  Episode 61  https://www.youtube.com/watch?v=dYQAYc26bm0   \n",
       "295         295  Episode 61  https://www.youtube.com/watch?v=dYQAYc26bm0   \n",
       "296         296  Episode 61  https://www.youtube.com/watch?v=dYQAYc26bm0   \n",
       "297         297  Episode 61  https://www.youtube.com/watch?v=dYQAYc26bm0   \n",
       "\n",
       "    start_timestamp  start   end  \\\n",
       "0              3:07    187   415   \n",
       "1              6:55    415   669   \n",
       "2             11:09    669     0   \n",
       "3              1:04     64   366   \n",
       "4              6:06    366   566   \n",
       "..              ...    ...   ...   \n",
       "293            2:56    176   443   \n",
       "294            7:23    443   670   \n",
       "295           11:10    670  1103   \n",
       "296           18:23   1103  1698   \n",
       "297        28:18:00   1698     0   \n",
       "\n",
       "                                              question  context  \n",
       "0    What's the best way to reallocate a portfolio ...      NaN  \n",
       "1    What do I do once I cross the Roth IRA income ...      NaN  \n",
       "2     Once I have maxed out my retiremenet accounts...      NaN  \n",
       "3                                 Saving vs. Investing      NaN  \n",
       "4     If Baby Boomers are shifting from net investo...      NaN  \n",
       "..                                                 ...      ...  \n",
       "293             Adding bonds to a 100% stock portfolio      NaN  \n",
       "294  Is having a pension and annuity a substitute f...      NaN  \n",
       "295                 Can the stock market grow forever?      NaN  \n",
       "296                              Whole life insurance.      NaN  \n",
       "297                                   Saving for kids.      NaN  \n",
       "\n",
       "[298 rows x 8 columns]"
      ]
     },
     "execution_count": 40,
     "metadata": {},
     "output_type": "execute_result"
    }
   ],
   "source": [
    "import pandas as pd\n",
    "\n",
    "df = pd.read_csv('questions.csv')\n",
    "df"
   ]
  },
  {
   "cell_type": "code",
   "execution_count": 41,
   "metadata": {
    "colab": {
     "base_uri": "https://localhost:8080/",
     "height": 332
    },
    "id": "sw2VprQ9uxul",
    "outputId": "e937da7e-b6ce-42f6-91da-520e227e153f"
   },
   "outputs": [
    {
     "data": {
      "text/html": [
       "<div>\n",
       "<style scoped>\n",
       "    .dataframe tbody tr th:only-of-type {\n",
       "        vertical-align: middle;\n",
       "    }\n",
       "\n",
       "    .dataframe tbody tr th {\n",
       "        vertical-align: top;\n",
       "    }\n",
       "\n",
       "    .dataframe thead th {\n",
       "        text-align: right;\n",
       "    }\n",
       "</style>\n",
       "<table border=\"1\" class=\"dataframe\">\n",
       "  <thead>\n",
       "    <tr style=\"text-align: right;\">\n",
       "      <th></th>\n",
       "      <th>Unnamed: 0</th>\n",
       "      <th>episode</th>\n",
       "      <th>url</th>\n",
       "      <th>start_timestamp</th>\n",
       "      <th>start</th>\n",
       "      <th>end</th>\n",
       "      <th>question</th>\n",
       "      <th>context</th>\n",
       "    </tr>\n",
       "  </thead>\n",
       "  <tbody>\n",
       "    <tr>\n",
       "      <th>83</th>\n",
       "      <td>83</td>\n",
       "      <td>Episode 22</td>\n",
       "      <td>https://www.youtube.com/watch?v=OYxhrPdZdog</td>\n",
       "      <td>1:58</td>\n",
       "      <td>118</td>\n",
       "      <td>210</td>\n",
       "      <td>How does the fed raising interest rates fights...</td>\n",
       "      <td>NaN</td>\n",
       "    </tr>\n",
       "    <tr>\n",
       "      <th>84</th>\n",
       "      <td>84</td>\n",
       "      <td>Episode 22</td>\n",
       "      <td>https://www.youtube.com/watch?v=OYxhrPdZdog</td>\n",
       "      <td>3:30</td>\n",
       "      <td>210</td>\n",
       "      <td>316</td>\n",
       "      <td>What particular sectors/names do you find most...</td>\n",
       "      <td>NaN</td>\n",
       "    </tr>\n",
       "    <tr>\n",
       "      <th>85</th>\n",
       "      <td>85</td>\n",
       "      <td>Episode 22</td>\n",
       "      <td>https://www.youtube.com/watch?v=OYxhrPdZdog</td>\n",
       "      <td>5:16</td>\n",
       "      <td>316</td>\n",
       "      <td>618</td>\n",
       "      <td>What will bring more value in the long run for...</td>\n",
       "      <td>NaN</td>\n",
       "    </tr>\n",
       "    <tr>\n",
       "      <th>86</th>\n",
       "      <td>86</td>\n",
       "      <td>Episode 22</td>\n",
       "      <td>https://www.youtube.com/watch?v=OYxhrPdZdog</td>\n",
       "      <td>10:18</td>\n",
       "      <td>618</td>\n",
       "      <td>717</td>\n",
       "      <td>Would you recommend focusing on paying off my ...</td>\n",
       "      <td>NaN</td>\n",
       "    </tr>\n",
       "    <tr>\n",
       "      <th>87</th>\n",
       "      <td>87</td>\n",
       "      <td>Episode 22</td>\n",
       "      <td>https://www.youtube.com/watch?v=OYxhrPdZdog</td>\n",
       "      <td>11:57</td>\n",
       "      <td>717</td>\n",
       "      <td>805</td>\n",
       "      <td>Paying off a mortgage.</td>\n",
       "      <td>NaN</td>\n",
       "    </tr>\n",
       "    <tr>\n",
       "      <th>88</th>\n",
       "      <td>88</td>\n",
       "      <td>Episode 22</td>\n",
       "      <td>https://www.youtube.com/watch?v=OYxhrPdZdog</td>\n",
       "      <td>13:25</td>\n",
       "      <td>805</td>\n",
       "      <td>879</td>\n",
       "      <td>What happens when the Fed raises rates?</td>\n",
       "      <td>NaN</td>\n",
       "    </tr>\n",
       "    <tr>\n",
       "      <th>89</th>\n",
       "      <td>89</td>\n",
       "      <td>Episode 22</td>\n",
       "      <td>https://www.youtube.com/watch?v=OYxhrPdZdog</td>\n",
       "      <td>14:39</td>\n",
       "      <td>879</td>\n",
       "      <td>1039</td>\n",
       "      <td>I’m 44 and have a net worth of around $425K. ...</td>\n",
       "      <td>NaN</td>\n",
       "    </tr>\n",
       "    <tr>\n",
       "      <th>90</th>\n",
       "      <td>90</td>\n",
       "      <td>Episode 22</td>\n",
       "      <td>https://www.youtube.com/watch?v=OYxhrPdZdog</td>\n",
       "      <td>17:19</td>\n",
       "      <td>1039</td>\n",
       "      <td>1275</td>\n",
       "      <td>What are some good questions to ask when sele...</td>\n",
       "      <td>NaN</td>\n",
       "    </tr>\n",
       "    <tr>\n",
       "      <th>91</th>\n",
       "      <td>91</td>\n",
       "      <td>Episode 22</td>\n",
       "      <td>https://www.youtube.com/watch?v=OYxhrPdZdog</td>\n",
       "      <td>21:15</td>\n",
       "      <td>1275</td>\n",
       "      <td>0</td>\n",
       "      <td>At interest rates so low, should I instead t...</td>\n",
       "      <td>NaN</td>\n",
       "    </tr>\n",
       "  </tbody>\n",
       "</table>\n",
       "</div>"
      ],
      "text/plain": [
       "    Unnamed: 0     episode                                          url  \\\n",
       "83          83  Episode 22  https://www.youtube.com/watch?v=OYxhrPdZdog   \n",
       "84          84  Episode 22  https://www.youtube.com/watch?v=OYxhrPdZdog   \n",
       "85          85  Episode 22  https://www.youtube.com/watch?v=OYxhrPdZdog   \n",
       "86          86  Episode 22  https://www.youtube.com/watch?v=OYxhrPdZdog   \n",
       "87          87  Episode 22  https://www.youtube.com/watch?v=OYxhrPdZdog   \n",
       "88          88  Episode 22  https://www.youtube.com/watch?v=OYxhrPdZdog   \n",
       "89          89  Episode 22  https://www.youtube.com/watch?v=OYxhrPdZdog   \n",
       "90          90  Episode 22  https://www.youtube.com/watch?v=OYxhrPdZdog   \n",
       "91          91  Episode 22  https://www.youtube.com/watch?v=OYxhrPdZdog   \n",
       "\n",
       "   start_timestamp  start   end  \\\n",
       "83            1:58    118   210   \n",
       "84            3:30    210   316   \n",
       "85            5:16    316   618   \n",
       "86           10:18    618   717   \n",
       "87           11:57    717   805   \n",
       "88           13:25    805   879   \n",
       "89           14:39    879  1039   \n",
       "90           17:19   1039  1275   \n",
       "91           21:15   1275     0   \n",
       "\n",
       "                                             question  context  \n",
       "83  How does the fed raising interest rates fights...      NaN  \n",
       "84  What particular sectors/names do you find most...      NaN  \n",
       "85  What will bring more value in the long run for...      NaN  \n",
       "86  Would you recommend focusing on paying off my ...      NaN  \n",
       "87                             Paying off a mortgage.      NaN  \n",
       "88            What happens when the Fed raises rates?      NaN  \n",
       "89   I’m 44 and have a net worth of around $425K. ...      NaN  \n",
       "90   What are some good questions to ask when sele...      NaN  \n",
       "91    At interest rates so low, should I instead t...      NaN  "
      ]
     },
     "execution_count": 41,
     "metadata": {},
     "output_type": "execute_result"
    }
   ],
   "source": [
    "# Let's just get the questions for a single episode and make this work before we download and transcribe all episodes in bulk\n",
    "episode = df[df['episode'] == 'Episode 22'].copy()\n",
    "episode"
   ]
  },
  {
   "cell_type": "code",
   "execution_count": 42,
   "metadata": {
    "colab": {
     "base_uri": "https://localhost:8080/",
     "height": 3571
    },
    "id": "3Rep_UtJcqCQ",
    "outputId": "a8454fec-fb1a-40ff-fed7-51c834e92629"
   },
   "outputs": [
    {
     "data": {
      "text/html": [
       "<div>\n",
       "<style scoped>\n",
       "    .dataframe tbody tr th:only-of-type {\n",
       "        vertical-align: middle;\n",
       "    }\n",
       "\n",
       "    .dataframe tbody tr th {\n",
       "        vertical-align: top;\n",
       "    }\n",
       "\n",
       "    .dataframe thead th {\n",
       "        text-align: right;\n",
       "    }\n",
       "</style>\n",
       "<table border=\"1\" class=\"dataframe\">\n",
       "  <thead>\n",
       "    <tr style=\"text-align: right;\">\n",
       "      <th></th>\n",
       "      <th>Unnamed: 0</th>\n",
       "      <th>episode</th>\n",
       "      <th>url</th>\n",
       "      <th>start_timestamp</th>\n",
       "      <th>start</th>\n",
       "      <th>end</th>\n",
       "      <th>question</th>\n",
       "      <th>context</th>\n",
       "    </tr>\n",
       "  </thead>\n",
       "  <tbody>\n",
       "    <tr>\n",
       "      <th>83</th>\n",
       "      <td>83</td>\n",
       "      <td>Episode 22</td>\n",
       "      <td>https://www.youtube.com/watch?v=OYxhrPdZdog</td>\n",
       "      <td>1:58</td>\n",
       "      <td>118</td>\n",
       "      <td>210</td>\n",
       "      <td>How does the fed raising interest rates fights...</td>\n",
       "      <td>How does the fed raising interest rates fights...</td>\n",
       "    </tr>\n",
       "    <tr>\n",
       "      <th>84</th>\n",
       "      <td>84</td>\n",
       "      <td>Episode 22</td>\n",
       "      <td>https://www.youtube.com/watch?v=OYxhrPdZdog</td>\n",
       "      <td>3:30</td>\n",
       "      <td>210</td>\n",
       "      <td>316</td>\n",
       "      <td>What particular sectors/names do you find most...</td>\n",
       "      <td>What particular sectors/names do you find most...</td>\n",
       "    </tr>\n",
       "    <tr>\n",
       "      <th>85</th>\n",
       "      <td>85</td>\n",
       "      <td>Episode 22</td>\n",
       "      <td>https://www.youtube.com/watch?v=OYxhrPdZdog</td>\n",
       "      <td>5:16</td>\n",
       "      <td>316</td>\n",
       "      <td>618</td>\n",
       "      <td>What will bring more value in the long run for...</td>\n",
       "      <td>What will bring more value in the long run for...</td>\n",
       "    </tr>\n",
       "    <tr>\n",
       "      <th>86</th>\n",
       "      <td>86</td>\n",
       "      <td>Episode 22</td>\n",
       "      <td>https://www.youtube.com/watch?v=OYxhrPdZdog</td>\n",
       "      <td>10:18</td>\n",
       "      <td>618</td>\n",
       "      <td>717</td>\n",
       "      <td>Would you recommend focusing on paying off my ...</td>\n",
       "      <td>Would you recommend focusing on paying off my ...</td>\n",
       "    </tr>\n",
       "    <tr>\n",
       "      <th>87</th>\n",
       "      <td>87</td>\n",
       "      <td>Episode 22</td>\n",
       "      <td>https://www.youtube.com/watch?v=OYxhrPdZdog</td>\n",
       "      <td>11:57</td>\n",
       "      <td>717</td>\n",
       "      <td>805</td>\n",
       "      <td>Paying off a mortgage.</td>\n",
       "      <td>Paying off a mortgage. OK, so up next, we have...</td>\n",
       "    </tr>\n",
       "    <tr>\n",
       "      <th>88</th>\n",
       "      <td>88</td>\n",
       "      <td>Episode 22</td>\n",
       "      <td>https://www.youtube.com/watch?v=OYxhrPdZdog</td>\n",
       "      <td>13:25</td>\n",
       "      <td>805</td>\n",
       "      <td>879</td>\n",
       "      <td>What happens when the Fed raises rates?</td>\n",
       "      <td>What happens when the Fed raises rates? OK, so...</td>\n",
       "    </tr>\n",
       "    <tr>\n",
       "      <th>89</th>\n",
       "      <td>89</td>\n",
       "      <td>Episode 22</td>\n",
       "      <td>https://www.youtube.com/watch?v=OYxhrPdZdog</td>\n",
       "      <td>14:39</td>\n",
       "      <td>879</td>\n",
       "      <td>1039</td>\n",
       "      <td>I’m 44 and have a net worth of around $425K. ...</td>\n",
       "      <td>I’m 44 and have a net worth of around $425K. ...</td>\n",
       "    </tr>\n",
       "    <tr>\n",
       "      <th>90</th>\n",
       "      <td>90</td>\n",
       "      <td>Episode 22</td>\n",
       "      <td>https://www.youtube.com/watch?v=OYxhrPdZdog</td>\n",
       "      <td>17:19</td>\n",
       "      <td>1039</td>\n",
       "      <td>1275</td>\n",
       "      <td>What are some good questions to ask when sele...</td>\n",
       "      <td>What are some good questions to ask when sele...</td>\n",
       "    </tr>\n",
       "    <tr>\n",
       "      <th>91</th>\n",
       "      <td>91</td>\n",
       "      <td>Episode 22</td>\n",
       "      <td>https://www.youtube.com/watch?v=OYxhrPdZdog</td>\n",
       "      <td>21:15</td>\n",
       "      <td>1275</td>\n",
       "      <td>0</td>\n",
       "      <td>At interest rates so low, should I instead t...</td>\n",
       "      <td>At interest rates so low, should I instead t...</td>\n",
       "    </tr>\n",
       "  </tbody>\n",
       "</table>\n",
       "</div>"
      ],
      "text/plain": [
       "    Unnamed: 0     episode                                          url  \\\n",
       "83          83  Episode 22  https://www.youtube.com/watch?v=OYxhrPdZdog   \n",
       "84          84  Episode 22  https://www.youtube.com/watch?v=OYxhrPdZdog   \n",
       "85          85  Episode 22  https://www.youtube.com/watch?v=OYxhrPdZdog   \n",
       "86          86  Episode 22  https://www.youtube.com/watch?v=OYxhrPdZdog   \n",
       "87          87  Episode 22  https://www.youtube.com/watch?v=OYxhrPdZdog   \n",
       "88          88  Episode 22  https://www.youtube.com/watch?v=OYxhrPdZdog   \n",
       "89          89  Episode 22  https://www.youtube.com/watch?v=OYxhrPdZdog   \n",
       "90          90  Episode 22  https://www.youtube.com/watch?v=OYxhrPdZdog   \n",
       "91          91  Episode 22  https://www.youtube.com/watch?v=OYxhrPdZdog   \n",
       "\n",
       "   start_timestamp  start   end  \\\n",
       "83            1:58    118   210   \n",
       "84            3:30    210   316   \n",
       "85            5:16    316   618   \n",
       "86           10:18    618   717   \n",
       "87           11:57    717   805   \n",
       "88           13:25    805   879   \n",
       "89           14:39    879  1039   \n",
       "90           17:19   1039  1275   \n",
       "91           21:15   1275     0   \n",
       "\n",
       "                                             question  \\\n",
       "83  How does the fed raising interest rates fights...   \n",
       "84  What particular sectors/names do you find most...   \n",
       "85  What will bring more value in the long run for...   \n",
       "86  Would you recommend focusing on paying off my ...   \n",
       "87                             Paying off a mortgage.   \n",
       "88            What happens when the Fed raises rates?   \n",
       "89   I’m 44 and have a net worth of around $425K. ...   \n",
       "90   What are some good questions to ask when sele...   \n",
       "91    At interest rates so low, should I instead t...   \n",
       "\n",
       "                                              context  \n",
       "83  How does the fed raising interest rates fights...  \n",
       "84  What particular sectors/names do you find most...  \n",
       "85  What will bring more value in the long run for...  \n",
       "86  Would you recommend focusing on paying off my ...  \n",
       "87  Paying off a mortgage. OK, so up next, we have...  \n",
       "88  What happens when the Fed raises rates? OK, so...  \n",
       "89   I’m 44 and have a net worth of around $425K. ...  \n",
       "90   What are some good questions to ask when sele...  \n",
       "91    At interest rates so low, should I instead t...  "
      ]
     },
     "execution_count": 42,
     "metadata": {},
     "output_type": "execute_result"
    }
   ],
   "source": [
    "def is_part_of_question(segment, start, end):\n",
    "    if segment['start'] > start:\n",
    "      if segment['end'] < end or end == 0:\n",
    "          return True \n",
    "\n",
    "    return False\n",
    "\n",
    "def get_question_context(row):\n",
    "     global output\n",
    "\n",
    "     question_segments = list(filter(lambda segment: is_part_of_question(segment, row['start'], row['end']), output['segments']))\n",
    "     # include question from timestamp in the context\n",
    "     context = row['question']\n",
    "     for segment in question_segments:\n",
    "         context += segment['text']\n",
    "\n",
    "     return context\n",
    "\n",
    "episode['context'] = episode.apply(get_question_context, axis=1)\n",
    "\n",
    "episode"
   ]
  },
  {
   "cell_type": "code",
   "execution_count": 43,
   "metadata": {
    "id": "aKq3zRP1m0YB"
   },
   "outputs": [],
   "source": [
    "from openai.embeddings_utils import get_embedding\n",
    "\n",
    "#get_embedding(episode.iloc[0]['context'], engine='text-embedding-ada-002')\n",
    "\n",
    "episode['embedding'] = episode['context'].apply(lambda row: get_embedding(row, engine='text-embedding-ada-002'))\n",
    "episode.to_csv('question_embeddings.csv')"
   ]
  },
  {
   "cell_type": "code",
   "execution_count": 50,
   "metadata": {
    "colab": {
     "base_uri": "https://localhost:8080/",
     "height": 374
    },
    "id": "BULieJNUq7D4",
    "outputId": "1f2c42ae-e9cc-4aa9-d2f5-8286f45efc37"
   },
   "outputs": [
    {
     "data": {
      "text/html": [
       "<div>\n",
       "<style scoped>\n",
       "    .dataframe tbody tr th:only-of-type {\n",
       "        vertical-align: middle;\n",
       "    }\n",
       "\n",
       "    .dataframe tbody tr th {\n",
       "        vertical-align: top;\n",
       "    }\n",
       "\n",
       "    .dataframe thead th {\n",
       "        text-align: right;\n",
       "    }\n",
       "</style>\n",
       "<table border=\"1\" class=\"dataframe\">\n",
       "  <thead>\n",
       "    <tr style=\"text-align: right;\">\n",
       "      <th></th>\n",
       "      <th>Unnamed: 0</th>\n",
       "      <th>episode</th>\n",
       "      <th>url</th>\n",
       "      <th>start_timestamp</th>\n",
       "      <th>start</th>\n",
       "      <th>end</th>\n",
       "      <th>question</th>\n",
       "      <th>context</th>\n",
       "      <th>embedding</th>\n",
       "      <th>similarities</th>\n",
       "    </tr>\n",
       "  </thead>\n",
       "  <tbody>\n",
       "    <tr>\n",
       "      <th>86</th>\n",
       "      <td>86</td>\n",
       "      <td>Episode 22</td>\n",
       "      <td>https://www.youtube.com/watch?v=OYxhrPdZdog</td>\n",
       "      <td>10:18</td>\n",
       "      <td>618</td>\n",
       "      <td>717</td>\n",
       "      <td>Would you recommend focusing on paying off my ...</td>\n",
       "      <td>Would you recommend focusing on paying off my ...</td>\n",
       "      <td>[-0.006371411494910717, -0.01449133176356554, ...</td>\n",
       "      <td>0.814878</td>\n",
       "    </tr>\n",
       "    <tr>\n",
       "      <th>85</th>\n",
       "      <td>85</td>\n",
       "      <td>Episode 22</td>\n",
       "      <td>https://www.youtube.com/watch?v=OYxhrPdZdog</td>\n",
       "      <td>5:16</td>\n",
       "      <td>316</td>\n",
       "      <td>618</td>\n",
       "      <td>What will bring more value in the long run for...</td>\n",
       "      <td>What will bring more value in the long run for...</td>\n",
       "      <td>[0.022100025787949562, -0.004235513508319855, ...</td>\n",
       "      <td>0.806475</td>\n",
       "    </tr>\n",
       "    <tr>\n",
       "      <th>87</th>\n",
       "      <td>87</td>\n",
       "      <td>Episode 22</td>\n",
       "      <td>https://www.youtube.com/watch?v=OYxhrPdZdog</td>\n",
       "      <td>11:57</td>\n",
       "      <td>717</td>\n",
       "      <td>805</td>\n",
       "      <td>Paying off a mortgage.</td>\n",
       "      <td>Paying off a mortgage. OK, so up next, we have...</td>\n",
       "      <td>[-0.017217114567756653, 0.01616808958351612, 0...</td>\n",
       "      <td>0.800483</td>\n",
       "    </tr>\n",
       "    <tr>\n",
       "      <th>91</th>\n",
       "      <td>91</td>\n",
       "      <td>Episode 22</td>\n",
       "      <td>https://www.youtube.com/watch?v=OYxhrPdZdog</td>\n",
       "      <td>21:15</td>\n",
       "      <td>1275</td>\n",
       "      <td>0</td>\n",
       "      <td>At interest rates so low, should I instead t...</td>\n",
       "      <td>At interest rates so low, should I instead t...</td>\n",
       "      <td>[-0.0116172069683671, -0.014779669232666492, 0...</td>\n",
       "      <td>0.780772</td>\n",
       "    </tr>\n",
       "  </tbody>\n",
       "</table>\n",
       "</div>"
      ],
      "text/plain": [
       "    Unnamed: 0     episode                                          url  \\\n",
       "86          86  Episode 22  https://www.youtube.com/watch?v=OYxhrPdZdog   \n",
       "85          85  Episode 22  https://www.youtube.com/watch?v=OYxhrPdZdog   \n",
       "87          87  Episode 22  https://www.youtube.com/watch?v=OYxhrPdZdog   \n",
       "91          91  Episode 22  https://www.youtube.com/watch?v=OYxhrPdZdog   \n",
       "\n",
       "   start_timestamp  start  end  \\\n",
       "86           10:18    618  717   \n",
       "85            5:16    316  618   \n",
       "87           11:57    717  805   \n",
       "91           21:15   1275    0   \n",
       "\n",
       "                                             question  \\\n",
       "86  Would you recommend focusing on paying off my ...   \n",
       "85  What will bring more value in the long run for...   \n",
       "87                             Paying off a mortgage.   \n",
       "91    At interest rates so low, should I instead t...   \n",
       "\n",
       "                                              context  \\\n",
       "86  Would you recommend focusing on paying off my ...   \n",
       "85  What will bring more value in the long run for...   \n",
       "87  Paying off a mortgage. OK, so up next, we have...   \n",
       "91    At interest rates so low, should I instead t...   \n",
       "\n",
       "                                            embedding  similarities  \n",
       "86  [-0.006371411494910717, -0.01449133176356554, ...      0.814878  \n",
       "85  [0.022100025787949562, -0.004235513508319855, ...      0.806475  \n",
       "87  [-0.017217114567756653, 0.01616808958351612, 0...      0.800483  \n",
       "91  [-0.0116172069683671, -0.014779669232666492, 0...      0.780772  "
      ]
     },
     "execution_count": 50,
     "metadata": {},
     "output_type": "execute_result"
    }
   ],
   "source": [
    "from openai.embeddings_utils import cosine_similarity\n",
    "\n",
    "question = \"How much should I save for retirement\"\n",
    "question_vector = get_embedding(question, engine='text-embedding-ada-002')\n",
    "\n",
    "episode[\"similarities\"] = episode['embedding'].apply(lambda x: cosine_similarity(x, question_vector))\n",
    "episode = episode.sort_values(\"similarities\", ascending=False).head(4)\n",
    "\n",
    "episode"
   ]
  },
  {
   "cell_type": "code",
   "execution_count": 51,
   "metadata": {
    "id": "lpB7j02HrbTr"
   },
   "outputs": [],
   "source": [
    "episode.to_csv(\"sorted.csv\")"
   ]
  },
  {
   "cell_type": "code",
   "execution_count": 52,
   "metadata": {
    "colab": {
     "base_uri": "https://localhost:8080/"
    },
    "id": "Q3QTUcUPwhlQ",
    "outputId": "325929ad-c922-4047-ec40-9a03f5b2cb5e"
   },
   "outputs": [
    {
     "data": {
      "text/plain": [
       "[\"Would you recommend focusing on paying off my student loans first? Or should I begin building my portfolio? The surprise is over. OK, so I have next. Long time viewer of the show, what all the content you put out. I'm 23 and just graduated from college. I landed my first job at a financial services firm. And I'm wondering how I should allocate my earnings. Would you recommend focusing on paying off my student loans first around $30,000 or building up my retirement portfolio? My boring answer to this one is I like the idea of splitting it up because I think that's the simplest way to go about it. And I think building those financial habits early and saving important. Now, it could be one of these people that just loves paying off debt because you hate it so much. Duncan, I can't remember. You a Duke or North Carolina fan because you're from North Carolina. I'm a Duke fan. OK, so some people hate debt as much as people outside of Durham, North Carolina hate coach K and Duke, right? Oh, wow. Yeah. What comes between the tree, I'll like this. Real it. Come on. There's a lot. But I'm just saying, if you really want to these people that just hate debt and cannot stand it and it's going to keep you up at night, paid off, I like the idea of splitting it up and building those savings habits while you pay off the debt. And then when the debts paid off, roll that those payments into your savings. For sure. I agree. I mean, you guys start contributing to the 401K, at least. I think a little bit. You don't have to do a lot, but you can do both at the same time. There's no reason why not. Yes, at least get your match. All right. Was it? So right on time. There we go. So one thing I had to add to that is just, yeah, the Dave Ramsey School of like no debt ever kind of thing. That always, to me, is kind of annoying because it's like, well, you're basically telling a lot of people that they can't like go to college then if they can't take out student loan debt because you should never take out. Yeah, I feel like you're saying some people are so extreme about it. It's kind of off-putting. Yeah, that's a debt that's going to pay off for you. There's good and bad debt.\",\n",
       " \"What will bring more value in the long run for a child? So next we have what will bring more value in the long run for a child, paying for a fancy private college that totals $250,000 or sending them to a mid-tier public school on a full ride and putting that $250,000 into an index fund for their retirement? Listen, this is the type of question that is way easier to answer as an older person than a younger person. Like, when you're older, you can easily say, like, don't spend a lot of money on a wedding because that's a waste of money, right? Or why would you spend all this money on college when you can just invest it and start a business and go bet on yourself? Like, that's way easier to say as a younger person. Like, hey, outside of the top 15 to 20 schools, it doesn't matter where your degree came from as long as you're going, right? But I think you use this as a teaching moment, right? So you can say option one, you go to a really expensive school, but you forego this potential will financially be set up as a young person and maybe buying your first house or paying for a wedding or whatever you want to do with the money retiring early. Or you go to a state school, but here's what you're giving up. You're not going to go to a nice expensive school that you want to. You could be missing out on experiences. And which one do you regret more? You put all the information out there for me. You just as a teaching opportunity, maybe talk about compound interest a little bit before their eyes glaze over. But I say if you're going to do this, don't scold someone, don't force them, give them all the information and let them make the decisions themselves, right? Because again, your decision at A to 18, maybe they say, you know what? I'll make my own money something. I don't need your money. I want to go to this school because my friends are going there because that is an awesome program that I want to do. Whatever. So I think that's what you do. You help them make an adult decision and let them figure out which path is better for them. Yeah, now that sounds like good advice. Also, yeah, so much of college is about what you make it. Like, they're brilliant people who go to, you know, like less prestigious schools and end up, you know, being very successful. Well, my favorite one is private school. It doesn't really mean that much. Oh, did we lose you been? Oh, I think we might have lost, lost been there for a second. All right. Well, let's give it a second to see if he comes back. And if he doesn't, then maybe I'll bring Matt back in. All right. So we'll switch this up a little bit. So we'll go ahead and jump into Matt. So Matt, get ready. I'm going to get your opinion on this. What do you think about this question between the public mid-tier school and a private school? Also, I should introduce you. This is a mad-worthy. Young advisor extraordinaire at Reholtz-Wealth. We're going to surprise you at question 8. But I'll go ahead and bring you in. Of course. Don't we curveball right off the bat here? Love it. So I agree with Bennett. It's much easier to answer this as an older person, just saying, having gone through the experience of paying for these types of big events and saying, well, did I really need that? But the experiences are worth something. So in terms of where are you going to go to school, as long as you get a good education, I think. And even if it's a mid-tier school, if you're not paying as much money, you'll probably end up OK at the end of the day. You'll end up all right. So don't kill yourself over. Don't feel like you have to spend godly amounts of money on school. But also, at the same time, you want the experience. You want to be able to learn the things that don't necessarily happen in college. Meeting people, networking, all that type of stuff is important. And when we're older, it's easier to say, did I really need that? But. Right. Yeah, hindsight. People aren't happy with their careers. They're always going to work back and be like, oh, I spent too much on college. But I think that some of that is hindsight bias. Also, we both went to school very close to each other. You went to coastal Carolina on the coast of South Carolina. I went to UNCW on the coast of North Carolina. So yeah, I had a great experience. OK, so this is uncharted territory. Ben is still not back. So he must be having some serious computer difficulties. So yeah, we're taking over. And yeah, I guess we'll just continue on. So John, John hit it. Let's go to the next question. OK. So, did we get Ben back? Hold on. Let's see. Ben, thank God. I'm on my phone. The power literally just went out of my business. And I was like, oh my God. You first, I was like, how long do I give it before we just completely regroup and continue on? So, but this is great. It's not like we're alive or anything. Yeah, we're only this is the power. My power in my whole office just literally shut down. And I'm sitting here in darkness, but I'm on my phone. So I apologize for the video, but. Hey, it works. It works. Where were we? So we were wrapping up the college question. So we're out of the next one. Matt had some good contributions there. So I guess you can hop in and help out. Yeah, yeah. So we'll just have Matt on.\",\n",
       " \"Paying off a mortgage. OK, so up next, we have my friend who's 38 years old has a 2.8% 30 year fixed mortgage, roughly 24 years left, and pays an extra $400 each month towards her principal. If she continues to prepay $400 towards her principal, she has about 16 years remaining. Her house has enjoyed strong appreciation in the past six years, about 85% according to Zilla. I told her I would show, I told her that I would slow pay the mortgage due to the phenomenal rate of the plus significant appreciation and invest the $400 a month in the stock market. What are your thoughts on this? I do think the rates matter in these things. I got my first interest rate I paid on my house to like 6.5%. And we ended up refinancing a few times to the point where we kept making the same payment and it was like double by the end. But then only sold our house after 10 years, I realized like, wait, what was that money doing for me? It was illicit, it was just sitting there. It wasn't that great. I think if you have that low of a payment and it's taxed advantage, I think you have to think about that in terms of like how are the rest of your finances? Are you on track with retirement savings? Could you be using this money for something better than a 2.8% repayment on your house? Some people just don't like debt. So I mean, if that's how you are, and that's keeping you up at night, then pay it off. But yeah, otherwise, there's probably other things you could be doing with it. And that just takes a little bit more deeper dive into your full picture. It's a really, really low hurdle rate. Yeah. Cool. We didn't even get to the buzzer on that one.\",\n",
       " \"  At interest rates so low, should I instead take a loan, finance the house and invest my capital in the stock market? Okay, so last but not least, I'm in my 30s and can now afford to buy a house full cash without taking any debt. However, with interest rates, so low, and they wrote this one a while back, but should I take a loan anyway and finance the house and invest my capital in the stock market? I think this is interesting that rates could change the story going from a 3% more or a 3% to a 5% to that hurdle changes. So nine months ago, I would have said, you'd be nuts to chain full cash. Now, maybe it kind of makes sense, but first of all, who does this person for having that amount of money? I don't know where they live to be able to buy and cash, but that's great. But so Matt, you're thinking through this type of decision with a client, and this is the kind of thing where there really is no right or wrong answer, right? A lot of this is personality driven and depending on what the person wants to get out of it. So how do you help someone work through a big decision like this? Because this is a huge, we're talking about a huge lump sum of money, six or seven figures here. And potentially depending on how much home they're buying. Yeah, like a lot of these questions, there are a lot of qualitative elements that need to be addressed, right? As opposed to just, where can I make the most money? What should I do in that sense? It's really about, what's the opportunity cost, right? What are the goals do you have that this money you could be throwing into equity in your home could be used for? Do you have kids? Do you want to help them get to college and go to college? If they're young, you might want a front load of five to nine plan and use some of this money for that. So that's just one example, but there's a lot of things that play into this as opposed to just, hey, I saved up the money. Should I just throw it on to my house? I also think, especially when you're young, borrowing money makes more sense to me because especially with the house that offers more liquidity, flexibility, you can't really spend your house in a pinch, you could obviously borrow against it, but having some flexibility to do something with that cash, and then still having that cash, if you realize a few years down the road, like I made a mistake here, you could still pay it off eventually, right? You still have that cash somewhere. So I think that is the kind of thing where it's hard to take that one back if you buy the house and all cash. Obviously, maybe one of the things now is, well, if you're getting into a bidding, or having all cash could make more sense and help, but I think especially when you're young, you lose some flexibility by just having it paid off. Definitely. The industry part of it is pretty big, I think. I mean, a couple months ago, it's more obvious, but still, even with where we're at today, you want the flexibility, you want to be able to fund other parts of your life, having everything tied up in equity, is it could be restraining a little bit. But again, you got these people, they just hate that. So if that's the type of client that I'm dealing with, the conversation's gonna lean that way, and there's nothing wrong with that. There's nothing, we can gear towards that type of conversation if it's required for the person that we're dealing with. Duncan, I'm not gonna make a coach-kate due reference here, because I know it's a touchy subject right now. I didn't realize. It's rough, yeah. It's been rough. Tough way for them to go out. But literally the worst team they could have lost to, everyone knows that I guess. Yeah, that had to be tough. All right. Thanks to Matt for stepping in here. I've been in this office for six years, seven years now almost, and I've never lost power before. So glad I could be the one on here today to experience it. I'm gonna love the time I think Matt was stepping in. We gotta mention, no portfolio rescue next week, because Duncan and I will be in Miami, recording a live edition of Animal Spirits that if we figured out, we can hopefully go up on this channel at some point. Keep those questions and comments coming. Remember, ask the compound show at gmail.com. Thanks guys, thanks a lot for watching, and we'll be back in two weeks. What other thing? Don't forget, we're also available as a podcast, wherever you listen to podcasts. So make sure you've subscribed and give us a rating, all that kind of stuff. It helps a lot. So yeah, thanks a lot. We have a fancy new cover with Duncan and I on it. Our pictures. It looks amazing. It's feel famous. All right, thanks everyone for watching. See ya. Let's go.\"]"
      ]
     },
     "execution_count": 52,
     "metadata": {},
     "output_type": "execute_result"
    }
   ],
   "source": [
    "context = []\n",
    "for i, row in episode.iterrows():\n",
    "  context.append(row['context'])\n",
    "\n",
    "context"
   ]
  },
  {
   "cell_type": "code",
   "execution_count": 53,
   "metadata": {
    "colab": {
     "base_uri": "https://localhost:8080/",
     "height": 122
    },
    "id": "QJpRCSODxmxp",
    "outputId": "4da198b1-148d-45af-98d2-b9c28e4134ba"
   },
   "outputs": [
    {
     "data": {
      "text/plain": [
       "\"Would you recommend focusing on paying off my student loans first? Or should I begin building my portfolio? The surprise is over. OK, so I have next. Long time viewer of the show, what all the content you put out. I'm 23 and just graduated from college. I landed my first job at a financial services firm. And I'm wondering how I should allocate my earnings. Would you recommend focusing on paying off my student loans first around $30,000 or building up my retirement portfolio? My boring answer to this one is I like the idea of splitting it up because I think that's the simplest way to go about it. And I think building those financial habits early and saving important. Now, it could be one of these people that just loves paying off debt because you hate it so much. Duncan, I can't remember. You a Duke or North Carolina fan because you're from North Carolina. I'm a Duke fan. OK, so some people hate debt as much as people outside of Durham, North Carolina hate coach K and Duke, right? Oh, wow. Yeah. What comes between the tree, I'll like this. Real it. Come on. There's a lot. But I'm just saying, if you really want to these people that just hate debt and cannot stand it and it's going to keep you up at night, paid off, I like the idea of splitting it up and building those savings habits while you pay off the debt. And then when the debts paid off, roll that those payments into your savings. For sure. I agree. I mean, you guys start contributing to the 401K, at least. I think a little bit. You don't have to do a lot, but you can do both at the same time. There's no reason why not. Yes, at least get your match. All right. Was it? So right on time. There we go. So one thing I had to add to that is just, yeah, the Dave Ramsey School of like no debt ever kind of thing. That always, to me, is kind of annoying because it's like, well, you're basically telling a lot of people that they can't like go to college then if they can't take out student loan debt because you should never take out. Yeah, I feel like you're saying some people are so extreme about it. It's kind of off-putting. Yeah, that's a debt that's going to pay off for you. There's good and bad debt.\\nWhat will bring more value in the long run for a child? So next we have what will bring more value in the long run for a child, paying for a fancy private college that totals $250,000 or sending them to a mid-tier public school on a full ride and putting that $250,000 into an index fund for their retirement? Listen, this is the type of question that is way easier to answer as an older person than a younger person. Like, when you're older, you can easily say, like, don't spend a lot of money on a wedding because that's a waste of money, right? Or why would you spend all this money on college when you can just invest it and start a business and go bet on yourself? Like, that's way easier to say as a younger person. Like, hey, outside of the top 15 to 20 schools, it doesn't matter where your degree came from as long as you're going, right? But I think you use this as a teaching moment, right? So you can say option one, you go to a really expensive school, but you forego this potential will financially be set up as a young person and maybe buying your first house or paying for a wedding or whatever you want to do with the money retiring early. Or you go to a state school, but here's what you're giving up. You're not going to go to a nice expensive school that you want to. You could be missing out on experiences. And which one do you regret more? You put all the information out there for me. You just as a teaching opportunity, maybe talk about compound interest a little bit before their eyes glaze over. But I say if you're going to do this, don't scold someone, don't force them, give them all the information and let them make the decisions themselves, right? Because again, your decision at A to 18, maybe they say, you know what? I'll make my own money something. I don't need your money. I want to go to this school because my friends are going there because that is an awesome program that I want to do. Whatever. So I think that's what you do. You help them make an adult decision and let them figure out which path is better for them. Yeah, now that sounds like good advice. Also, yeah, so much of college is about what you make it. Like, they're brilliant people who go to, you know, like less prestigious schools and end up, you know, being very successful. Well, my favorite one is private school. It doesn't really mean that much. Oh, did we lose you been? Oh, I think we might have lost, lost been there for a second. All right. Well, let's give it a second to see if he comes back. And if he doesn't, then maybe I'll bring Matt back in. All right. So we'll switch this up a little bit. So we'll go ahead and jump into Matt. So Matt, get ready. I'm going to get your opinion on this. What do you think about this question between the public mid-tier school and a private school? Also, I should introduce you. This is a mad-worthy. Young advisor extraordinaire at Reholtz-Wealth. We're going to surprise you at question 8. But I'll go ahead and bring you in. Of course. Don't we curveball right off the bat here? Love it. So I agree with Bennett. It's much easier to answer this as an older person, just saying, having gone through the experience of paying for these types of big events and saying, well, did I really need that? But the experiences are worth something. So in terms of where are you going to go to school, as long as you get a good education, I think. And even if it's a mid-tier school, if you're not paying as much money, you'll probably end up OK at the end of the day. You'll end up all right. So don't kill yourself over. Don't feel like you have to spend godly amounts of money on school. But also, at the same time, you want the experience. You want to be able to learn the things that don't necessarily happen in college. Meeting people, networking, all that type of stuff is important. And when we're older, it's easier to say, did I really need that? But. Right. Yeah, hindsight. People aren't happy with their careers. They're always going to work back and be like, oh, I spent too much on college. But I think that some of that is hindsight bias. Also, we both went to school very close to each other. You went to coastal Carolina on the coast of South Carolina. I went to UNCW on the coast of North Carolina. So yeah, I had a great experience. OK, so this is uncharted territory. Ben is still not back. So he must be having some serious computer difficulties. So yeah, we're taking over. And yeah, I guess we'll just continue on. So John, John hit it. Let's go to the next question. OK. So, did we get Ben back? Hold on. Let's see. Ben, thank God. I'm on my phone. The power literally just went out of my business. And I was like, oh my God. You first, I was like, how long do I give it before we just completely regroup and continue on? So, but this is great. It's not like we're alive or anything. Yeah, we're only this is the power. My power in my whole office just literally shut down. And I'm sitting here in darkness, but I'm on my phone. So I apologize for the video, but. Hey, it works. It works. Where were we? So we were wrapping up the college question. So we're out of the next one. Matt had some good contributions there. So I guess you can hop in and help out. Yeah, yeah. So we'll just have Matt on.\\nPaying off a mortgage. OK, so up next, we have my friend who's 38 years old has a 2.8% 30 year fixed mortgage, roughly 24 years left, and pays an extra $400 each month towards her principal. If she continues to prepay $400 towards her principal, she has about 16 years remaining. Her house has enjoyed strong appreciation in the past six years, about 85% according to Zilla. I told her I would show, I told her that I would slow pay the mortgage due to the phenomenal rate of the plus significant appreciation and invest the $400 a month in the stock market. What are your thoughts on this? I do think the rates matter in these things. I got my first interest rate I paid on my house to like 6.5%. And we ended up refinancing a few times to the point where we kept making the same payment and it was like double by the end. But then only sold our house after 10 years, I realized like, wait, what was that money doing for me? It was illicit, it was just sitting there. It wasn't that great. I think if you have that low of a payment and it's taxed advantage, I think you have to think about that in terms of like how are the rest of your finances? Are you on track with retirement savings? Could you be using this money for something better than a 2.8% repayment on your house? Some people just don't like debt. So I mean, if that's how you are, and that's keeping you up at night, then pay it off. But yeah, otherwise, there's probably other things you could be doing with it. And that just takes a little bit more deeper dive into your full picture. It's a really, really low hurdle rate. Yeah. Cool. We didn't even get to the buzzer on that one.\\n  At interest rates so low, should I instead take a loan, finance the house and invest my capital in the stock market? Okay, so last but not least, I'm in my 30s and can now afford to buy a house full cash without taking any debt. However, with interest rates, so low, and they wrote this one a while back, but should I take a loan anyway and finance the house and invest my capital in the stock market? I think this is interesting that rates could change the story going from a 3% more or a 3% to a 5% to that hurdle changes. So nine months ago, I would have said, you'd be nuts to chain full cash. Now, maybe it kind of makes sense, but first of all, who does this person for having that amount of money? I don't know where they live to be able to buy and cash, but that's great. But so Matt, you're thinking through this type of decision with a client, and this is the kind of thing where there really is no right or wrong answer, right? A lot of this is personality driven and depending on what the person wants to get out of it. So how do you help someone work through a big decision like this? Because this is a huge, we're talking about a huge lump sum of money, six or seven figures here. And potentially depending on how much home they're buying. Yeah, like a lot of these questions, there are a lot of qualitative elements that need to be addressed, right? As opposed to just, where can I make the most money? What should I do in that sense? It's really about, what's the opportunity cost, right? What are the goals do you have that this money you could be throwing into equity in your home could be used for? Do you have kids? Do you want to help them get to college and go to college? If they're young, you might want a front load of five to nine plan and use some of this money for that. So that's just one example, but there's a lot of things that play into this as opposed to just, hey, I saved up the money. Should I just throw it on to my house? I also think, especially when you're young, borrowing money makes more sense to me because especially with the house that offers more liquidity, flexibility, you can't really spend your house in a pinch, you could obviously borrow against it, but having some flexibility to do something with that cash, and then still having that cash, if you realize a few years down the road, like I made a mistake here, you could still pay it off eventually, right? You still have that cash somewhere. So I think that is the kind of thing where it's hard to take that one back if you buy the house and all cash. Obviously, maybe one of the things now is, well, if you're getting into a bidding, or having all cash could make more sense and help, but I think especially when you're young, you lose some flexibility by just having it paid off. Definitely. The industry part of it is pretty big, I think. I mean, a couple months ago, it's more obvious, but still, even with where we're at today, you want the flexibility, you want to be able to fund other parts of your life, having everything tied up in equity, is it could be restraining a little bit. But again, you got these people, they just hate that. So if that's the type of client that I'm dealing with, the conversation's gonna lean that way, and there's nothing wrong with that. There's nothing, we can gear towards that type of conversation if it's required for the person that we're dealing with. Duncan, I'm not gonna make a coach-kate due reference here, because I know it's a touchy subject right now. I didn't realize. It's rough, yeah. It's been rough. Tough way for them to go out. But literally the worst team they could have lost to, everyone knows that I guess. Yeah, that had to be tough. All right. Thanks to Matt for stepping in here. I've been in this office for six years, seven years now almost, and I've never lost power before. So glad I could be the one on here today to experience it. I'm gonna love the time I think Matt was stepping in. We gotta mention, no portfolio rescue next week, because Duncan and I will be in Miami, recording a live edition of Animal Spirits that if we figured out, we can hopefully go up on this channel at some point. Keep those questions and comments coming. Remember, ask the compound show at gmail.com. Thanks guys, thanks a lot for watching, and we'll be back in two weeks. What other thing? Don't forget, we're also available as a podcast, wherever you listen to podcasts. So make sure you've subscribed and give us a rating, all that kind of stuff. It helps a lot. So yeah, thanks a lot. We have a fancy new cover with Duncan and I on it. Our pictures. It looks amazing. It's feel famous. All right, thanks everyone for watching. See ya. Let's go.\""
      ]
     },
     "execution_count": 53,
     "metadata": {},
     "output_type": "execute_result"
    }
   ],
   "source": [
    "text = \"\\n\".join(context)\n",
    "text"
   ]
  },
  {
   "cell_type": "code",
   "execution_count": 54,
   "metadata": {
    "colab": {
     "base_uri": "https://localhost:8080/",
     "height": 122
    },
    "id": "yQ5ha5FgxtsU",
    "outputId": "afae7ecc-014e-470f-fa86-7fdc955a59f4"
   },
   "outputs": [
    {
     "data": {
      "text/plain": [
       "\"Would you recommend focusing on paying off my student loans first? Or should I begin building my portfolio? The surprise is over. OK, so I have next. Long time viewer of the show, what all the content you put out. I'm 23 and just graduated from college. I landed my first job at a financial services firm. And I'm wondering how I should allocate my earnings. Would you recommend focusing on paying off my student loans first around $30,000 or building up my retirement portfolio? My boring answer to this one is I like the idea of splitting it up because I think that's the simplest way to go about it. And I think building those financial habits early and saving important. Now, it could be one of these people that just loves paying off debt because you hate it so much. Duncan, I can't remember. You a Duke or North Carolina fan because you're from North Carolina. I'm a Duke fan. OK, so some people hate debt as much as people outside of Durham, North Carolina hate coach K and Duke, right? Oh, wow. Yeah. What comes between the tree, I'll like this. Real it. Come on. There's a lot. But I'm just saying, if you really want to these people that just hate debt and cannot stand it and it's going to keep you up at night, paid off, I like the idea of splitting it up and building those savings habits while you pay off the debt. And then when the debts paid off, roll that those payments into your savings. For sure. I agree. I mean, you guys start contributing to the 401K, at least. I think a little bit. You don't have to do a lot, but you can do both at the same time. There's no reason why not. Yes, at least get your match. All right. Was it? So right on time. There we go. So one thing I had to add to that is just, yeah, the Dave Ramsey School of like no debt ever kind of thing. That always, to me, is kind of annoying because it's like, well, you're basically telling a lot of people that they can't like go to college then if they can't take out student loan debt because you should never take out. Yeah, I feel like you're saying some people are so extreme about it. It's kind of off-putting. Yeah, that's a debt that's going to pay off for you. There's good and bad debt.\\nWhat will bring more value in the long run for a child? So next we have what will bring more value in the long run for a child, paying for a fancy private college that totals $250,000 or sending them to a mid-tier public school on a full ride and putting that $250,000 into an index fund for their retirement? Listen, this is the type of question that is way easier to answer as an older person than a younger person. Like, when you're older, you can easily say, like, don't spend a lot of money on a wedding because that's a waste of money, right? Or why would you spend all this money on college when you can just invest it and start a business and go bet on yourself? Like, that's way easier to say as a younger person. Like, hey, outside of the top 15 to 20 schools, it doesn't matter where your degree came from as long as you're going, right? But I think you use this as a teaching moment, right? So you can say option one, you go to a really expensive school, but you forego this potential will financially be set up as a young person and maybe buying your first house or paying for a wedding or whatever you want to do with the money retiring early. Or you go to a state school, but here's what you're giving up. You're not going to go to a nice expensive school that you want to. You could be missing out on experiences. And which one do you regret more? You put all the information out there for me. You just as a teaching opportunity, maybe talk about compound interest a little bit before their eyes glaze over. But I say if you're going to do this, don't scold someone, don't force them, give them all the information and let them make the decisions themselves, right? Because again, your decision at A to 18, maybe they say, you know what? I'll make my own money something. I don't need your money. I want to go to this school because my friends are going there because that is an awesome program that I want to do. Whatever. So I think that's what you do. You help them make an adult decision and let them figure out which path is better for them. Yeah, now that sounds like good advice. Also, yeah, so much of college is about what you make it. Like, they're brilliant people who go to, you know, like less prestigious schools and end up, you know, being very successful. Well, my favorite one is private school. It doesn't really mean that much. Oh, did we lose you been? Oh, I think we might have lost, lost been there for a second. All right. Well, let's give it a second to see if he comes back. And if he doesn't, then maybe I'll bring Matt back in. All right. So we'll switch this up a little bit. So we'll go ahead and jump into Matt. So Matt, get ready. I'm going to get your opinion on this. What do you think about this question between the public mid-tier school and a private school? Also, I should introduce you. This is a mad-worthy. Young advisor extraordinaire at Reholtz-Wealth. We're going to surprise you at question 8. But I'll go ahead and bring you in. Of course. Don't we curveball right off the bat here? Love it. So I agree with Bennett. It's much easier to answer this as an older person, just saying, having gone through the experience of paying for these types of big events and saying, well, did I really need that? But the experiences are worth something. So in terms of where are you going to go to school, as long as you get a good education, I think. And even if it's a mid-tier school, if you're not paying as much money, you'll probably end up OK at the end of the day. You'll end up all right. So don't kill yourself over. Don't feel like you have to spend godly amounts of money on school. But also, at the same time, you want the experience. You want to be able to learn the things that don't necessarily happen in college. Meeting people, networking, all that type of stuff is important. And when we're older, it's easier to say, did I really need that? But. Right. Yeah, hindsight. People aren't happy with their careers. They're always going to work back and be like, oh, I spent too much on college. But I think that some of that is hindsight bias. Also, we both went to school very close to each other. You went to coastal Carolina on the coast of South Carolina. I went to UNCW on the coast of North Carolina. So yeah, I had a great experience. OK, so this is uncharted territory. Ben is still not back. So he must be having some serious computer difficulties. So yeah, we're taking over. And yeah, I guess we'll just continue on. So John, John hit it. Let's go to the next question. OK. So, did we get Ben back? Hold on. Let's see. Ben, thank God. I'm on my phone. The power literally just went out of my business. And I was like, oh my God. You first, I was like, how long do I give it before we just completely regroup and continue on? So, but this is great. It's not like we're alive or anything. Yeah, we're only this is the power. My power in my whole office just literally shut down. And I'm sitting here in darkness, but I'm on my phone. So I apologize for the video, but. Hey, it works. It works. Where were we? So we were wrapping up the college question. So we're out of the next one. Matt had some good contributions there. So I guess you can hop in and help out. Yeah, yeah. So we'll just have Matt on.\\nPaying off a mortgage. OK, so up next, we have my friend who's 38 years old has a 2.8% 30 year fixed mortgage, roughly 24 years left, and pays an extra $400 each month towards her principal. If she continues to prepay $400 towards her principal, she has about 16 years remaining. Her house has enjoyed strong appreciation in the past six years, about 85% according to Zilla. I told her I would show, I told her that I would slow pay the mortgage due to the phenomenal rate of the plus significant appreciation and invest the $400 a month in the stock market. What are your thoughts on this? I do think the rates matter in these things. I got my first interest rate I paid on my house to like 6.5%. And we ended up refinancing a few times to the point where we kept making the same payment and it was like double by the end. But then only sold our house after 10 years, I realized like, wait, what was that money doing for me? It was illicit, it was just sitting there. It wasn't that great. I think if you have that low of a payment and it's taxed advantage, I think you have to think about that in terms of like how are the rest of your finances? Are you on track with retirement savings? Could you be using this money for something better than a 2.8% repayment on your house? Some people just don't like debt. So I mean, if that's how you are, and that's keeping you up at night, then pay it off. But yeah, otherwise, there's probably other things you could be doing with it. And that just takes a little bit more deeper dive into your full picture. It's a really, really low hurdle rate. Yeah. Cool. We didn't even get to the buzzer on that one.\\n  At interest rates so low, should I instead take a loan, finance the house and invest my capital in the stock market? Okay, so last but not least, I'm in my 30s and can now afford to buy a house full cash without taking any debt. However, with interest rates, so low, and they wrote this one a while back, but should I take a loan anyway and finance the house and invest my capital in the stock market? I think this is interesting that rates could change the story going from a 3% more or a 3% to a 5% to that hurdle changes. So nine months ago, I would have said, you'd be nuts to chain full cash. Now, maybe it kind of makes sense, but first of all, who does this person for having that amount of money? I don't know where they live to be able to buy and cash, but that's great. But so Matt, you're thinking through this type of decision with a client, and this is the kind of thing where there really is no right or wrong answer, right? A lot of this is personality driven and depending on what the person wants to get out of it. So how do you help someone work through a big decision like this? Because this is a huge, we're talking about a huge lump sum of money, six or seven figures here. And potentially depending on how much home they're buying. Yeah, like a lot of these questions, there are a lot of qualitative elements that need to be addressed, right? As opposed to just, where can I make the most money? What should I do in that sense? It's really about, what's the opportunity cost, right? What are the goals do you have that this money you could be throwing into equity in your home could be used for? Do you have kids? Do you want to help them get to college and go to college? If they're young, you might want a front load of five to nine plan and use some of this money for that. So that's just one example, but there's a lot of things that play into this as opposed to just, hey, I saved up the money. Should I just throw it on to my house? I also think, especially when you're young, borrowing money makes more sense to me because especially with the house that offers more liquidity, flexibility, you can't really spend your house in a pinch, you could obviously borrow against it, but having some flexibility to do something with that cash, and then still having that cash, if you realize a few years down the road, like I made a mistake here, you could still pay it off eventually, right? You still have that cash somewhere. So I think that is the kind of thing where it's hard to take that one back if you buy the house and all cash. Obviously, maybe one of the things now is, well, if you're getting into a bidding, or having all cash could make more sense and help, but I think especially when you're young, you lose some flexibility by just having it paid off. Definitely. The industry part of it is pretty big, I think. I mean, a couple months ago, it's more obvious, but still, even with where we're at today, you want the flexibility, you want to be able to fund other parts of your life, having everything tied up in equity, is it could be restraining a little bit. But again, you got these people, they just hate that. So if that's the type of client that I'm dealing with, the conversation's gonna lean that way, and there's nothing wrong with that. There's nothing, we can gear towards that type of conversation if it's required for the person that we're dealing with. Duncan, I'm not gonna make a coach-kate due reference here, because I know it's a touchy subject right now. I didn't realize. It's rough, yeah. It's been rough. Tough way for them to go out. But literally the worst team they could have lost to, everyone knows that I guess. Yeah, that had to be tough. All right. Thanks to Matt for stepping in here. I've been in this office for six years, seven years now almost, and I've never lost power before. So glad I could be the one on here today to experience it. I'm gonna love the time I think Matt was stepping in. We gotta mention, no portfolio rescue next week, because Duncan and I will be in Miami, recording a live edition of Animal Spirits that if we figured out, we can hopefully go up on this channel at some point. Keep those questions and comments coming. Remember, ask the compound show at gmail.com. Thanks guys, thanks a lot for watching, and we'll be back in two weeks. What other thing? Don't forget, we're also available as a podcast, wherever you listen to podcasts. So make sure you've subscribed and give us a rating, all that kind of stuff. It helps a lot. So yeah, thanks a lot. We have a fancy new cover with Duncan and I on it. Our pictures. It looks amazing. It's feel famous. All right, thanks everyone for watching. See ya. Let's go.\""
      ]
     },
     "execution_count": 54,
     "metadata": {},
     "output_type": "execute_result"
    }
   ],
   "source": [
    "context = text\n",
    "\n",
    "context"
   ]
  },
  {
   "cell_type": "code",
   "execution_count": 55,
   "metadata": {
    "colab": {
     "base_uri": "https://localhost:8080/",
     "height": 70
    },
    "id": "-BfERMoXOpC5",
    "outputId": "7f118f55-e7f8-4dee-f9f5-e8b40af9c6d6"
   },
   "outputs": [
    {
     "data": {
      "text/plain": [
       "\"Ultimately, how much you save for retirement will depend on your individual circumstances. That said, in general, it's recommended that you save at least 10-15% of your gross income. Depending on where you are right now, you may need to increase your savings rate to hit your future retirement goal.\""
      ]
     },
     "execution_count": 55,
     "metadata": {},
     "output_type": "execute_result"
    }
   ],
   "source": [
    "prompt = f\"\"\"Answer the following question using only the context below. Answer in the style of Ben Carlson a financial advisor and podcaster. If you don't know the answer for certain, say I don't know.\n",
    "\n",
    "Context:\n",
    "{context}\n",
    "\n",
    "Q: {question}\n",
    "A:\"\"\"\n",
    "\n",
    "openai.Completion.create(\n",
    "    prompt=prompt,\n",
    "    temperature=1,\n",
    "    max_tokens=500,\n",
    "    top_p=1,\n",
    "    frequency_penalty=0,\n",
    "    presence_penalty=0,\n",
    "    model=COMPLETIONS_MODEL\n",
    ")[\"choices\"][0][\"text\"].strip(\" \\n\")"
   ]
  },
  {
   "cell_type": "markdown",
   "metadata": {
    "id": "2vs34CUI32Wc"
   },
   "source": []
  }
 ],
 "metadata": {
  "accelerator": "GPU",
  "colab": {
   "include_colab_link": true,
   "provenance": []
  },
  "gpuClass": "standard",
  "kernelspec": {
   "display_name": "Python 3 (ipykernel)",
   "language": "python",
   "name": "python3"
  },
  "language_info": {
   "codemirror_mode": {
    "name": "ipython",
    "version": 3
   },
   "file_extension": ".py",
   "mimetype": "text/x-python",
   "name": "python",
   "nbconvert_exporter": "python",
   "pygments_lexer": "ipython3",
   "version": "3.8.16"
  }
 },
 "nbformat": 4,
 "nbformat_minor": 4
}
